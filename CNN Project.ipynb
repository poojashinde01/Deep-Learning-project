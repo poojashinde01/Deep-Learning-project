{
 "cells": [
  {
   "cell_type": "markdown",
   "id": "bdf08aa1",
   "metadata": {},
   "source": [
    "# Convolutional Neural Network"
   ]
  },
  {
   "cell_type": "markdown",
   "id": "6ebcf024",
   "metadata": {},
   "source": [
    "### Importing the libraries"
   ]
  },
  {
   "cell_type": "code",
   "execution_count": 44,
   "id": "ed5efbfd",
   "metadata": {},
   "outputs": [],
   "source": [
    "import tensorflow as tf\n",
    "from keras.preprocessing.image import ImageDataGenerator"
   ]
  },
  {
   "cell_type": "markdown",
   "id": "ca994a04",
   "metadata": {},
   "source": [
    "## Part 1 - Data Preprocessing"
   ]
  },
  {
   "cell_type": "markdown",
   "id": "959aa9c6",
   "metadata": {},
   "source": [
    "### Preprocessing the Training set"
   ]
  },
  {
   "cell_type": "code",
   "execution_count": 45,
   "id": "7d49d641",
   "metadata": {},
   "outputs": [],
   "source": [
    "train_datagen=ImageDataGenerator(rescale=1./255,shear_range=0.2,zoom_range=0.2,horizontal_flip=True)"
   ]
  },
  {
   "cell_type": "code",
   "execution_count": 46,
   "id": "9952c9f4",
   "metadata": {},
   "outputs": [
    {
     "name": "stdout",
     "output_type": "stream",
     "text": [
      "Found 104 images belonging to 2 classes.\n"
     ]
    }
   ],
   "source": [
    "training_dataset=train_datagen.flow_from_directory('dataset/train',target_size=(64,64),batch_size=32,class_mode=\"binary\")"
   ]
  },
  {
   "cell_type": "markdown",
   "id": "e29da7be",
   "metadata": {},
   "source": [
    "### Preprocessing the Test set"
   ]
  },
  {
   "cell_type": "code",
   "execution_count": 47,
   "id": "46c5572b",
   "metadata": {},
   "outputs": [],
   "source": [
    "test_datagen=ImageDataGenerator(rescale=1./255,shear_range=0.2,zoom_range=0.2,horizontal_flip=True)"
   ]
  },
  {
   "cell_type": "code",
   "execution_count": 48,
   "id": "e2124232",
   "metadata": {},
   "outputs": [
    {
     "name": "stdout",
     "output_type": "stream",
     "text": [
      "Found 40 images belonging to 2 classes.\n"
     ]
    }
   ],
   "source": [
    "test_dataset=train_datagen.flow_from_directory('dataset/validate',target_size=(64,64),batch_size=32,class_mode=\"binary\")"
   ]
  },
  {
   "cell_type": "markdown",
   "id": "9bdc496e",
   "metadata": {},
   "source": [
    "## Part 2 - Building the CNN"
   ]
  },
  {
   "cell_type": "markdown",
   "id": "541d4da8",
   "metadata": {},
   "source": [
    "### Initialising the CNN"
   ]
  },
  {
   "cell_type": "code",
   "execution_count": 49,
   "id": "0f116901",
   "metadata": {},
   "outputs": [],
   "source": [
    "cnn=tf.keras.models.Sequential()"
   ]
  },
  {
   "cell_type": "markdown",
   "id": "592996b9",
   "metadata": {},
   "source": [
    "### Step 1 - Convolution"
   ]
  },
  {
   "cell_type": "code",
   "execution_count": 50,
   "id": "9c004fdc",
   "metadata": {},
   "outputs": [],
   "source": [
    "cnn.add(tf.keras.layers.Conv2D(filters=32,kernel_size=3,activation=\"relu\",input_shape=[64,64,3]))"
   ]
  },
  {
   "cell_type": "markdown",
   "id": "b585888f",
   "metadata": {},
   "source": [
    "## Step 2- maxpooling"
   ]
  },
  {
   "cell_type": "code",
   "execution_count": 51,
   "id": "dd0353bb",
   "metadata": {},
   "outputs": [],
   "source": [
    "cnn.add(tf.keras.layers.MaxPool2D(pool_size=2,strides=2)) "
   ]
  },
  {
   "cell_type": "markdown",
   "id": "215f21c3",
   "metadata": {},
   "source": [
    "## Adding second convolution and Maxpooling layer"
   ]
  },
  {
   "cell_type": "code",
   "execution_count": 52,
   "id": "51f1a849",
   "metadata": {},
   "outputs": [],
   "source": [
    "cnn.add(tf.keras.layers.Conv2D(filters=32,kernel_size=3,activation=\"relu\"))"
   ]
  },
  {
   "cell_type": "code",
   "execution_count": 53,
   "id": "8c36b324",
   "metadata": {},
   "outputs": [],
   "source": [
    "cnn.add(tf.keras.layers.MaxPool2D(pool_size=2,strides=2))"
   ]
  },
  {
   "cell_type": "markdown",
   "id": "48f77a3e",
   "metadata": {},
   "source": [
    "## step 3-  Flattening"
   ]
  },
  {
   "cell_type": "code",
   "execution_count": 54,
   "id": "c35aa172",
   "metadata": {},
   "outputs": [],
   "source": [
    "cnn.add(tf.keras.layers.Flatten())"
   ]
  },
  {
   "cell_type": "markdown",
   "id": "97e09c6b",
   "metadata": {},
   "source": [
    "## step 4 -full connection"
   ]
  },
  {
   "cell_type": "code",
   "execution_count": 55,
   "id": "902b1bc8",
   "metadata": {},
   "outputs": [],
   "source": [
    "cnn.add(tf.keras.layers.Dense(units=128,activation=\"relu\"))"
   ]
  },
  {
   "cell_type": "markdown",
   "id": "e93ebe2d",
   "metadata": {},
   "source": [
    "## step 5 Outer Layer"
   ]
  },
  {
   "cell_type": "code",
   "execution_count": 56,
   "id": "5bd2832e",
   "metadata": {},
   "outputs": [],
   "source": [
    "cnn.add(tf.keras.layers.Dense(units=1,activation=\"sigmoid\"))"
   ]
  },
  {
   "cell_type": "markdown",
   "id": "a8f48b22",
   "metadata": {},
   "source": [
    "# part 3 training CNN"
   ]
  },
  {
   "cell_type": "markdown",
   "id": "db613c22",
   "metadata": {},
   "source": [
    "## compiling the cnn"
   ]
  },
  {
   "cell_type": "code",
   "execution_count": 57,
   "id": "5bde1ee8",
   "metadata": {},
   "outputs": [],
   "source": [
    "cnn.compile(optimizer=\"adam\",loss=\"binary_crossentropy\",metrics=[\"accuracy\"])#to decrease the errors and use that algorithm to increase accuracy"
   ]
  },
  {
   "cell_type": "markdown",
   "id": "40fe0444",
   "metadata": {},
   "source": [
    "### Training the CNN on the Training set and evaluating it on the Test set"
   ]
  },
  {
   "cell_type": "code",
   "execution_count": 58,
   "id": "451ca390",
   "metadata": {},
   "outputs": [
    {
     "name": "stdout",
     "output_type": "stream",
     "text": [
      "Epoch 1/25\n",
      "4/4 [==============================] - 5s 613ms/step - loss: 0.7827 - accuracy: 0.5577 - val_loss: 0.8439 - val_accuracy: 0.5000\n",
      "Epoch 2/25\n",
      "4/4 [==============================] - 1s 316ms/step - loss: 0.7414 - accuracy: 0.5000 - val_loss: 0.6864 - val_accuracy: 0.5750\n",
      "Epoch 3/25\n",
      "4/4 [==============================] - 1s 416ms/step - loss: 0.6835 - accuracy: 0.5192 - val_loss: 0.6873 - val_accuracy: 0.5000\n",
      "Epoch 4/25\n",
      "4/4 [==============================] - 1s 328ms/step - loss: 0.6757 - accuracy: 0.5481 - val_loss: 0.6768 - val_accuracy: 0.6500\n",
      "Epoch 5/25\n",
      "4/4 [==============================] - 1s 349ms/step - loss: 0.6626 - accuracy: 0.6538 - val_loss: 0.6720 - val_accuracy: 0.6000\n",
      "Epoch 6/25\n",
      "4/4 [==============================] - 1s 268ms/step - loss: 0.6453 - accuracy: 0.7212 - val_loss: 0.6604 - val_accuracy: 0.6500\n",
      "Epoch 7/25\n",
      "4/4 [==============================] - 1s 348ms/step - loss: 0.6260 - accuracy: 0.6058 - val_loss: 0.6659 - val_accuracy: 0.5250\n",
      "Epoch 8/25\n",
      "4/4 [==============================] - 1s 359ms/step - loss: 0.5911 - accuracy: 0.7500 - val_loss: 0.6170 - val_accuracy: 0.6500\n",
      "Epoch 9/25\n",
      "4/4 [==============================] - 1s 235ms/step - loss: 0.5286 - accuracy: 0.8173 - val_loss: 0.7005 - val_accuracy: 0.5500\n",
      "Epoch 10/25\n",
      "4/4 [==============================] - 1s 365ms/step - loss: 0.5244 - accuracy: 0.7212 - val_loss: 0.5920 - val_accuracy: 0.7250\n",
      "Epoch 11/25\n",
      "4/4 [==============================] - 1s 353ms/step - loss: 0.4599 - accuracy: 0.8077 - val_loss: 0.6012 - val_accuracy: 0.6750\n",
      "Epoch 12/25\n",
      "4/4 [==============================] - 1s 464ms/step - loss: 0.5635 - accuracy: 0.6731 - val_loss: 0.8100 - val_accuracy: 0.5250\n",
      "Epoch 13/25\n",
      "4/4 [==============================] - 2s 356ms/step - loss: 0.4307 - accuracy: 0.8173 - val_loss: 0.5996 - val_accuracy: 0.6250\n",
      "Epoch 14/25\n",
      "4/4 [==============================] - 1s 343ms/step - loss: 0.3812 - accuracy: 0.8654 - val_loss: 0.6882 - val_accuracy: 0.6000\n",
      "Epoch 15/25\n",
      "4/4 [==============================] - 2s 362ms/step - loss: 0.3459 - accuracy: 0.8942 - val_loss: 0.7187 - val_accuracy: 0.6500\n",
      "Epoch 16/25\n",
      "4/4 [==============================] - 1s 337ms/step - loss: 0.3538 - accuracy: 0.8654 - val_loss: 0.6616 - val_accuracy: 0.6500\n",
      "Epoch 17/25\n",
      "4/4 [==============================] - 1s 326ms/step - loss: 0.2712 - accuracy: 0.9423 - val_loss: 0.7889 - val_accuracy: 0.6000\n",
      "Epoch 18/25\n",
      "4/4 [==============================] - 1s 286ms/step - loss: 0.3000 - accuracy: 0.9038 - val_loss: 0.5696 - val_accuracy: 0.6750\n",
      "Epoch 19/25\n",
      "4/4 [==============================] - 1s 305ms/step - loss: 0.2934 - accuracy: 0.8654 - val_loss: 0.8438 - val_accuracy: 0.6750\n",
      "Epoch 20/25\n",
      "4/4 [==============================] - 1s 304ms/step - loss: 0.2542 - accuracy: 0.9135 - val_loss: 0.8703 - val_accuracy: 0.6000\n",
      "Epoch 21/25\n",
      "4/4 [==============================] - 1s 299ms/step - loss: 0.2811 - accuracy: 0.8942 - val_loss: 0.7050 - val_accuracy: 0.6250\n",
      "Epoch 22/25\n",
      "4/4 [==============================] - 1s 326ms/step - loss: 0.2462 - accuracy: 0.8942 - val_loss: 0.9377 - val_accuracy: 0.5750\n",
      "Epoch 23/25\n",
      "4/4 [==============================] - 1s 361ms/step - loss: 0.2239 - accuracy: 0.9135 - val_loss: 0.7560 - val_accuracy: 0.6750\n",
      "Epoch 24/25\n",
      "4/4 [==============================] - 2s 432ms/step - loss: 0.2214 - accuracy: 0.9038 - val_loss: 1.0579 - val_accuracy: 0.6000\n",
      "Epoch 25/25\n",
      "4/4 [==============================] - 1s 348ms/step - loss: 0.2088 - accuracy: 0.9423 - val_loss: 0.7416 - val_accuracy: 0.6500\n"
     ]
    },
    {
     "data": {
      "text/plain": [
       "<keras.callbacks.History at 0x290136ea670>"
      ]
     },
     "execution_count": 58,
     "metadata": {},
     "output_type": "execute_result"
    }
   ],
   "source": [
    "cnn.fit(x=training_dataset,validation_data=test_dataset,epochs=25) #epoch  = gives the no of batch so it give"
   ]
  },
  {
   "cell_type": "markdown",
   "id": "5c961ec9",
   "metadata": {},
   "source": [
    "## Part 4 - Making a single prediction\n"
   ]
  },
  {
   "cell_type": "code",
   "execution_count": 61,
   "id": "4847826d",
   "metadata": {},
   "outputs": [
    {
     "name": "stdout",
     "output_type": "stream",
     "text": [
      "1/1 [==============================] - 0s 152ms/step\n",
      "glasses\n"
     ]
    }
   ],
   "source": [
    "import numpy as np\n",
    "from keras.preprocessing import image\n",
    "from keras.utils import load_img\n",
    "from keras.utils import img_to_array\n",
    "\n",
    "test_image=load_img('dataset/test/row-1-column-1.jpg',target_size=(64,64))\n",
    "test_image = img_to_array(test_image)\n",
    "test_image = np.expand_dims(test_image, axis = 0)\n",
    "result = cnn.predict(test_image)\n",
    "training_dataset.class_indices\n",
    "if result[0][0] == 0:\n",
    "    print('glasses')\n",
    "else:\n",
    "    print('no-glasses')"
   ]
  },
  {
   "cell_type": "markdown",
   "id": "71b0a24b",
   "metadata": {},
   "source": []
  },
  {
   "cell_type": "code",
   "execution_count": null,
   "id": "d29f4185",
   "metadata": {},
   "outputs": [],
   "source": []
  },
  {
   "cell_type": "code",
   "execution_count": null,
   "id": "d97e8a38",
   "metadata": {},
   "outputs": [],
   "source": []
  },
  {
   "cell_type": "code",
   "execution_count": null,
   "id": "2c305fde",
   "metadata": {},
   "outputs": [],
   "source": []
  },
  {
   "cell_type": "code",
   "execution_count": null,
   "id": "997a0b6d",
   "metadata": {},
   "outputs": [],
   "source": []
  },
  {
   "cell_type": "code",
   "execution_count": null,
   "id": "59cf5fab",
   "metadata": {},
   "outputs": [],
   "source": []
  },
  {
   "cell_type": "code",
   "execution_count": null,
   "id": "6032f229",
   "metadata": {},
   "outputs": [],
   "source": []
  },
  {
   "cell_type": "code",
   "execution_count": null,
   "id": "369c41ee",
   "metadata": {},
   "outputs": [],
   "source": []
  },
  {
   "cell_type": "code",
   "execution_count": null,
   "id": "2bd621fb",
   "metadata": {},
   "outputs": [],
   "source": []
  },
  {
   "cell_type": "code",
   "execution_count": null,
   "id": "28c5bf1e",
   "metadata": {},
   "outputs": [],
   "source": []
  },
  {
   "cell_type": "code",
   "execution_count": null,
   "id": "3fe1963e",
   "metadata": {},
   "outputs": [],
   "source": []
  },
  {
   "cell_type": "code",
   "execution_count": null,
   "id": "5db2cea9",
   "metadata": {},
   "outputs": [],
   "source": []
  }
 ],
 "metadata": {
  "kernelspec": {
   "display_name": "Python 3 (ipykernel)",
   "language": "python",
   "name": "python3"
  },
  "language_info": {
   "codemirror_mode": {
    "name": "ipython",
    "version": 3
   },
   "file_extension": ".py",
   "mimetype": "text/x-python",
   "name": "python",
   "nbconvert_exporter": "python",
   "pygments_lexer": "ipython3",
   "version": "3.9.12"
  }
 },
 "nbformat": 4,
 "nbformat_minor": 5
}
